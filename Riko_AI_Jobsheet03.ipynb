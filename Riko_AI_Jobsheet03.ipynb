{
  "nbformat": 4,
  "nbformat_minor": 0,
  "metadata": {
    "colab": {
      "provenance": [],
      "authorship_tag": "ABX9TyNf9yWMcNPoMJxAGLL8DCiK",
      "include_colab_link": true
    },
    "kernelspec": {
      "name": "python3",
      "display_name": "Python 3"
    },
    "language_info": {
      "name": "python"
    }
  },
  "cells": [
    {
      "cell_type": "markdown",
      "metadata": {
        "id": "view-in-github",
        "colab_type": "text"
      },
      "source": [
        "<a href=\"https://colab.research.google.com/github/Radityaz/2025_AI_TI1B/blob/main/Riko_AI_Jobsheet03.ipynb\" target=\"_parent\"><img src=\"https://colab.research.google.com/assets/colab-badge.svg\" alt=\"Open In Colab\"/></a>"
      ]
    },
    {
      "cell_type": "markdown",
      "source": [
        "#JOB SHEET 3 : PENGUKURAN STATISTIK DESKRIPTIF"
      ],
      "metadata": {
        "id": "Wo3M1LQCsyg2"
      }
    },
    {
      "cell_type": "markdown",
      "source": [
        "##Latihan"
      ],
      "metadata": {
        "id": "aWL__T0Ks2tr"
      }
    },
    {
      "cell_type": "markdown",
      "source": [
        "Mendapatkan Nilai Mean"
      ],
      "metadata": {
        "id": "VHozWqrTs-bI"
      }
    },
    {
      "cell_type": "code",
      "execution_count": 3,
      "metadata": {
        "colab": {
          "base_uri": "https://localhost:8080/"
        },
        "id": "vjHrK6o6suwP",
        "outputId": "d2a8d69f-26c6-43fe-f6c6-22d92f16132d"
      },
      "outputs": [
        {
          "output_type": "stream",
          "name": "stdout",
          "text": [
            "82.11111111111111\n"
          ]
        }
      ],
      "source": [
        "import numpy as np\n",
        "\n",
        "score = [90, 80, 70, 65, 110, 80, 83, 67, 94]\n",
        "\n",
        "x = np.mean(score)\n",
        "\n",
        "print(x)\n"
      ]
    }
  ]
}