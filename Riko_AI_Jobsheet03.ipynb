{
  "nbformat": 4,
  "nbformat_minor": 0,
  "metadata": {
    "colab": {
      "provenance": [],
      "authorship_tag": "ABX9TyMyZ2AJabj2+GRDYRMS4bD8",
      "include_colab_link": true
    },
    "kernelspec": {
      "name": "python3",
      "display_name": "Python 3"
    },
    "language_info": {
      "name": "python"
    }
  },
  "cells": [
    {
      "cell_type": "markdown",
      "metadata": {
        "id": "view-in-github",
        "colab_type": "text"
      },
      "source": [
        "<a href=\"https://colab.research.google.com/github/Radityaz/2025_AI_TI1B/blob/main/Riko_AI_Jobsheet03.ipynb\" target=\"_parent\"><img src=\"https://colab.research.google.com/assets/colab-badge.svg\" alt=\"Open In Colab\"/></a>"
      ]
    },
    {
      "cell_type": "markdown",
      "source": [
        "#JOB SHEET 3 : PENGUKURAN STATISTIK DESKRIPTIF"
      ],
      "metadata": {
        "id": "Wo3M1LQCsyg2"
      }
    },
    {
      "cell_type": "markdown",
      "source": [
        "##Latihan"
      ],
      "metadata": {
        "id": "aWL__T0Ks2tr"
      }
    },
    {
      "cell_type": "markdown",
      "source": [
        "Mendapatkan Nilai Mean"
      ],
      "metadata": {
        "id": "VHozWqrTs-bI"
      }
    },
    {
      "cell_type": "code",
      "execution_count": null,
      "metadata": {
        "colab": {
          "base_uri": "https://localhost:8080/"
        },
        "id": "vjHrK6o6suwP",
        "outputId": "d2a8d69f-26c6-43fe-f6c6-22d92f16132d"
      },
      "outputs": [
        {
          "output_type": "stream",
          "name": "stdout",
          "text": [
            "82.11111111111111\n"
          ]
        }
      ],
      "source": [
        "import numpy as np\n",
        "\n",
        "score = [90, 80, 70, 65, 110, 80, 83, 67, 94]\n",
        "\n",
        "x = np.mean(score)\n",
        "\n",
        "print(x)\n"
      ]
    },
    {
      "cell_type": "markdown",
      "source": [
        "Mendapatkan Nilai Median"
      ],
      "metadata": {
        "id": "OlMEDUw_t-vb"
      }
    },
    {
      "cell_type": "code",
      "source": [
        "import numpy as np\n",
        "\n",
        "score = [90, 80, 70, 65, 110, 80, 83, 67, 94]\n",
        "\n",
        "x = np.median(score)\n",
        "\n",
        "print(x)"
      ],
      "metadata": {
        "id": "ZFnvWL6gt_Ct",
        "outputId": "1604d8e5-fe76-417c-fab8-d0ca55e3c859",
        "colab": {
          "base_uri": "https://localhost:8080/"
        }
      },
      "execution_count": 1,
      "outputs": [
        {
          "output_type": "stream",
          "name": "stdout",
          "text": [
            "80.0\n"
          ]
        }
      ]
    },
    {
      "cell_type": "markdown",
      "source": [
        "Mendapatkan Nilai Modus / Mode"
      ],
      "metadata": {
        "id": "7Q4V2pyD1E0v"
      }
    },
    {
      "cell_type": "code",
      "source": [
        "from scipy import stats\n",
        "\n",
        "score = [90, 80, 70, 65, 110, 80, 83, 67, 94]\n",
        "\n",
        "x = stats.mode(score, keepdims=True)\n",
        "\n",
        "print(x)"
      ],
      "metadata": {
        "id": "d0jkRUSh1FOB",
        "outputId": "c7a22c2d-12bd-46e9-8c8a-aedae5067940",
        "colab": {
          "base_uri": "https://localhost:8080/"
        }
      },
      "execution_count": 2,
      "outputs": [
        {
          "output_type": "stream",
          "name": "stdout",
          "text": [
            "ModeResult(mode=array([80]), count=array([2]))\n"
          ]
        }
      ]
    },
    {
      "cell_type": "markdown",
      "source": [
        "Mendapatkan Nilai Range"
      ],
      "metadata": {
        "id": "ipvcjW4a1cd9"
      }
    },
    {
      "cell_type": "code",
      "source": [
        "import numpy as np\n",
        "\n",
        "data = [2, 3, 7, 8, 9, 12, 15, 20, 50, 42]\n",
        "\n",
        "minimum = np.min(data)\n",
        "maximum = np.max(data)\n",
        "x = maximum - minimum\n",
        "\n",
        "print(x)"
      ],
      "metadata": {
        "id": "AFv2mmIm1czr",
        "outputId": "30e044a0-9f2b-4ed9-ea34-283655bd1043",
        "colab": {
          "base_uri": "https://localhost:8080/"
        }
      },
      "execution_count": 3,
      "outputs": [
        {
          "output_type": "stream",
          "name": "stdout",
          "text": [
            "48\n"
          ]
        }
      ]
    },
    {
      "cell_type": "markdown",
      "source": [
        "Mendapatkan Nilai Percentile"
      ],
      "metadata": {
        "id": "KKrQX1Vc1rMz"
      }
    },
    {
      "cell_type": "code",
      "source": [
        "import numpy as np\n",
        "\n",
        "data = [90, 80, 70, 65, 110, 80, 83, 67, 94]\n",
        "\n",
        "x = np.percentile(data, 90)\n",
        "\n",
        "print(x)\n"
      ],
      "metadata": {
        "id": "GO14q6wF1sGQ",
        "outputId": "8164eaec-b35d-4634-95dc-5ab777aacfd0",
        "colab": {
          "base_uri": "https://localhost:8080/"
        }
      },
      "execution_count": 4,
      "outputs": [
        {
          "output_type": "stream",
          "name": "stdout",
          "text": [
            "97.2\n"
          ]
        }
      ]
    },
    {
      "cell_type": "markdown",
      "source": [
        "Mendapatkan Nilai Quartile dan Interquartile Range"
      ],
      "metadata": {
        "id": "Fdgpj26z18Cz"
      }
    },
    {
      "cell_type": "code",
      "source": [
        "import numpy as np\n",
        "\n",
        "data = [3, 4, 4, 5, 5, 6, 6, 7, 8, 8, 9, 10]\n",
        "\n",
        "Q1 = np.median(data[:int(len(data)/2)])\n",
        "Q3 = np.median(data[int(len(data)/2):])\n",
        "IQR = Q3 - Q1\n",
        "\n",
        "print(Q1,Q3,IQR)"
      ],
      "metadata": {
        "id": "4krBW63218Sp",
        "outputId": "79c2a915-8579-44a7-d88e-1dbb2b3acde7",
        "colab": {
          "base_uri": "https://localhost:8080/"
        }
      },
      "execution_count": 5,
      "outputs": [
        {
          "output_type": "stream",
          "name": "stdout",
          "text": [
            "4.5 8.0 3.5\n"
          ]
        }
      ]
    },
    {
      "cell_type": "markdown",
      "source": [
        "Mendapatkan Nilai Variance dan Standart Deviation"
      ],
      "metadata": {
        "id": "t-TjMDLx2Utl"
      }
    },
    {
      "cell_type": "code",
      "source": [
        "import numpy as np\n",
        "\n",
        "data= [86, 87, 88, 86, 87, 85, 86]\n",
        "\n",
        "mean = np.mean(data)\n",
        "var = np.var(data)\n",
        "std = np.std(data)\n",
        "\n",
        "print(mean, var, std)"
      ],
      "metadata": {
        "id": "P1fhwgkz2VvG",
        "outputId": "9b55faed-98fa-406f-ddcd-572ec1e0a97f",
        "colab": {
          "base_uri": "https://localhost:8080/"
        }
      },
      "execution_count": 7,
      "outputs": [
        {
          "output_type": "stream",
          "name": "stdout",
          "text": [
            "86.42857142857143 0.8163265306122449 0.9035079029052513\n"
          ]
        }
      ]
    },
    {
      "cell_type": "markdown",
      "source": [
        "##Praktikum"
      ],
      "metadata": {
        "id": "kDRdoiQc2ry1"
      }
    },
    {
      "cell_type": "markdown",
      "source": [
        "###1.Pelemparan dadu sebanyak 25 kali. Angka yang keluar datanya adalah : 1 2 3 4 5 5 6 2 3 4 5 6 6 4 3 2 1 4 3 5 6 6 5 4 5 Modus dari data diatas adalah …\n"
      ],
      "metadata": {
        "id": "cSlgHE7A2uYL"
      }
    },
    {
      "cell_type": "code",
      "source": [
        "\n",
        "\n",
        "import numpy as np\n",
        "\n",
        "score = [1, 2, 3, 4, 5, 5, 6, 2, 3,\n",
        "         4, 5, 6, 6, 4, 3, 2, 1, 4,\n",
        "         3, 5, 6, 6, 5, 4, 5]\n",
        "\n",
        "x = np.median(score)\n",
        "\n",
        "print(x)"
      ],
      "metadata": {
        "id": "Fa921H9_2tF6",
        "outputId": "ea505a31-9163-46be-9c1c-7fbe6fedd46b",
        "colab": {
          "base_uri": "https://localhost:8080/"
        }
      },
      "execution_count": 9,
      "outputs": [
        {
          "output_type": "stream",
          "name": "stdout",
          "text": [
            "4.0\n"
          ]
        }
      ]
    },
    {
      "cell_type": "markdown",
      "source": [
        "###2.Diketahui sebuah deret data 9, 10, 11, 6, 8, 7, 7, 5, 4, 5. Tentukan persentil ke-25 dan persentil ke-75 !"
      ],
      "metadata": {
        "id": "iWaWwgyD4FTL"
      }
    },
    {
      "cell_type": "code",
      "source": [
        "import numpy as np\n",
        "\n",
        "data = [9, 10, 11, 6, 8, 7, 7, 5, 4, 5]\n",
        "\n",
        "x = np.percentile(data, 25)\n",
        "y = np.percentile(data, 75)\n",
        "\n",
        "print(f'persentil ke-25 = {x} dan persentil ke-75 = {y}')"
      ],
      "metadata": {
        "id": "RGZg_Jpz4GHv",
        "outputId": "d4f7020f-91a2-4384-fc22-fcd0d5c79ed9",
        "colab": {
          "base_uri": "https://localhost:8080/"
        }
      },
      "execution_count": 10,
      "outputs": [
        {
          "output_type": "stream",
          "name": "stdout",
          "text": [
            "persentil ke-25 = 5.25 dan persentil ke-75 = 8.75\n"
          ]
        }
      ]
    },
    {
      "cell_type": "markdown",
      "source": [
        "###3.\tPada sebuah kelas memiliki nilai hasil ujian yaitu 50, 54, 62, 50, 52, 59, 61, 63, 65, 10, 53, 63, 65, 50, 59, 62, 50, 51, 57, 60, 63, 65, 65, 53, 99. Beradasarkan data hasil ujian tersebut, tentukan :"
      ],
      "metadata": {
        "id": "IVsj_Y5a5CC4"
      }
    },
    {
      "cell_type": "markdown",
      "source": [
        "a.\tUrutkan data dari yang terkecil sampai data yang terbesar"
      ],
      "metadata": {
        "id": "_nZyp8wX5FaC"
      }
    },
    {
      "cell_type": "code",
      "source": [
        "nilai = [50, 54, 62, 50, 52, 59, 61, 63, 65, 10, 53, 63, 65, 50, 59, 62, 50,\n",
        "         51, 57, 60, 63, 65, 65, 53, 99]\n",
        "\n",
        "nilai_terurut = sorted(nilai)\n",
        "\n",
        "print(\"Data terurut dari yang terkecil ke terbesar:\")\n",
        "print(nilai_terurut)\n"
      ],
      "metadata": {
        "id": "O_BlyABl5EdT",
        "outputId": "48f944a2-2e47-45ca-9db4-c8c9bfe3165b",
        "colab": {
          "base_uri": "https://localhost:8080/"
        }
      },
      "execution_count": 11,
      "outputs": [
        {
          "output_type": "stream",
          "name": "stdout",
          "text": [
            "Data terurut dari yang terkecil ke terbesar:\n",
            "[10, 50, 50, 50, 50, 51, 52, 53, 53, 54, 57, 59, 59, 60, 61, 62, 62, 63, 63, 63, 65, 65, 65, 65, 99]\n"
          ]
        }
      ]
    },
    {
      "cell_type": "markdown",
      "source": [
        "b.\tIdentifikasi nilai first quartile (Q1) dan third quartile (Q3), dan IQR"
      ],
      "metadata": {
        "id": "RHmnXTG957LJ"
      }
    },
    {
      "cell_type": "code",
      "source": [
        "data = [50, 54, 62, 50, 52, 59, 61, 63, 65, 10, 53, 63, 65, 50, 59, 62, 50,\n",
        "         51, 57, 60, 63, 65, 65, 53, 99]\n",
        "\n",
        "Q1 = np.median(data[:int(len(data)/2)])\n",
        "Q3 = np.median(data[int(len(data)/2):])\n",
        "IQR = Q3 - Q1\n",
        "\n",
        "print(f'Q1: {Q1}, Q3: {Q3}, IQR: {IQR}')"
      ],
      "metadata": {
        "id": "D4VI4GTk57nr",
        "outputId": "32115e1c-44b3-4486-eb97-dab13992ba30",
        "colab": {
          "base_uri": "https://localhost:8080/"
        }
      },
      "execution_count": 14,
      "outputs": [
        {
          "output_type": "stream",
          "name": "stdout",
          "text": [
            "Q1: 56.5, Q3: 60.0, IQR: 3.5\n"
          ]
        }
      ]
    },
    {
      "cell_type": "markdown",
      "source": [
        "c.\tTentukan nilai upper bound dan lower bound"
      ],
      "metadata": {
        "id": "wBHUuhZl6azl"
      }
    },
    {
      "cell_type": "code",
      "source": [
        "data = [50, 54, 62, 50, 52, 59, 61, 63, 65, 10, 53, 63, 65, 50, 59, 62, 50,\n",
        "         51, 57, 60, 63, 65, 65, 53, 99]\n",
        "\n",
        "Q1 = np.median(data[:int(len(data)/2)])\n",
        "Q3 = np.median(data[int(len(data)/2):])\n",
        "IQR = Q3 - Q1\n",
        "lowerBound = Q1 - 1.5 * IQR\n",
        "upperBound = Q3 + 1.5 * IQR\n",
        "\n",
        "print(f'LowerBound: {lowerBound} & Upperbound: {upperBound}')"
      ],
      "metadata": {
        "id": "2aiknHb-6bbU",
        "outputId": "59b74f7b-f209-44f7-e7fd-5b0ddaff87c6",
        "colab": {
          "base_uri": "https://localhost:8080/"
        }
      },
      "execution_count": 17,
      "outputs": [
        {
          "output_type": "stream",
          "name": "stdout",
          "text": [
            "LowerBound: 51.25 & Upperbound: 65.25\n"
          ]
        }
      ]
    },
    {
      "cell_type": "markdown",
      "source": [
        "d.\tTentukan nilai ujian yang menjadi outlier berdasarkan data hasil ujian diatas"
      ],
      "metadata": {
        "id": "t4GD5EQu7wnx"
      }
    },
    {
      "cell_type": "code",
      "source": [
        "data = [50, 54, 62, 50, 52, 59, 61, 63, 65, 10, 53, 63, 65, 50, 59, 62, 50,\n",
        "         51, 57, 60, 63, 65, 65, 53, 99]\n",
        "\n",
        "Q1 = np.median(data[:int(len(data)/2)])\n",
        "Q3 = np.median(data[int(len(data)/2):])\n",
        "IQR = Q3 - Q1\n",
        "lowerBound = Q1 - 1.5 * IQR\n",
        "upperBound = Q3 + 1.5 * IQR\n",
        "\n",
        "minimum = np.min(data)\n",
        "maximum = np.max(data)\n",
        "\n",
        "print(f'LowerBound: {lowerBound} & Upperbound: {upperBound}')\n",
        "print(f'outliner: {minimum}, {maximum}')"
      ],
      "metadata": {
        "id": "bMT2i1Uj7xg2",
        "outputId": "2b145f08-48c6-4c15-d7ae-76d776fb8872",
        "colab": {
          "base_uri": "https://localhost:8080/"
        }
      },
      "execution_count": 25,
      "outputs": [
        {
          "output_type": "stream",
          "name": "stdout",
          "text": [
            "LowerBound: 51.25 & Upperbound: 65.25\n",
            "outliner: 10, 99\n"
          ]
        }
      ]
    },
    {
      "cell_type": "markdown",
      "source": [
        "###4.\tDiketahui data berat bada mahasiswa informatika polines kelas IK-2E adalah sebagai berikut."
      ],
      "metadata": {
        "id": "HOOc5Z8D9wwH"
      }
    },
    {
      "cell_type": "code",
      "source": [
        "import numpy as np\n",
        "\n",
        "# Data\n",
        "kelas = [(41, 45), (46, 50), (50, 55), (56, 60), (61, 65), (66, 70)]\n",
        "frekuensi = [2, 3, 6, 4, 5, 2]\n",
        "\n",
        "titik_tengah = [ (bawah + atas) / 2 for (bawah, atas) in kelas ]\n",
        "\n",
        "fx = [ f * x for f, x in zip(frekuensi, titik_tengah) ]\n",
        "fx2 = [ f * x**2 for f, x in zip(frekuensi, titik_tengah) ]\n",
        "\n",
        "total_f = sum(frekuensi)\n",
        "\n",
        "\n",
        "standar_deviasi = np.sqrt( (sum(fx2) / total_f) - mean**2 )\n",
        "\n",
        "print(f\"Standar Deviasi: {standar_deviasi:.2f}\")\n"
      ],
      "metadata": {
        "id": "09D1O18I9wDn",
        "outputId": "cf620b2d-ddc0-420f-8c8d-df961705f685",
        "colab": {
          "base_uri": "https://localhost:8080/"
        }
      },
      "execution_count": 27,
      "outputs": [
        {
          "output_type": "stream",
          "name": "stdout",
          "text": [
            "Standar Deviasi: 7.24\n"
          ]
        }
      ]
    }
  ]
}