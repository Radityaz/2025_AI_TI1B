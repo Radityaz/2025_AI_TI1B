{
  "nbformat": 4,
  "nbformat_minor": 0,
  "metadata": {
    "colab": {
      "provenance": [],
      "authorship_tag": "ABX9TyPaIO9TNnZYHB54NTExW4zv",
      "include_colab_link": true
    },
    "kernelspec": {
      "name": "python3",
      "display_name": "Python 3"
    },
    "language_info": {
      "name": "python"
    }
  },
  "cells": [
    {
      "cell_type": "markdown",
      "metadata": {
        "id": "view-in-github",
        "colab_type": "text"
      },
      "source": [
        "<a href=\"https://colab.research.google.com/github/Radityaz/2025_AI_TI1B/blob/main/Riko_AI_Jobsheet02.ipynb\" target=\"_parent\"><img src=\"https://colab.research.google.com/assets/colab-badge.svg\" alt=\"Open In Colab\"/></a>"
      ]
    },
    {
      "cell_type": "markdown",
      "source": [
        "# Jobsheet 02 | OPERASI MATEMATIKA, VEKTOR, MATRIKS DAN TIPE DATA"
      ],
      "metadata": {
        "id": "WBeQWywA55Ru"
      }
    },
    {
      "cell_type": "markdown",
      "source": [
        "## Tugas Praktikum 1"
      ],
      "metadata": {
        "id": "MllWYdVx6Dqq"
      }
    },
    {
      "cell_type": "markdown",
      "source": [
        "a. A x B"
      ],
      "metadata": {
        "id": "mYNmOwo-6MBG"
      }
    },
    {
      "cell_type": "code",
      "execution_count": 1,
      "metadata": {
        "colab": {
          "base_uri": "https://localhost:8080/"
        },
        "id": "vB8pidVH51Ua",
        "outputId": "0a4b19fa-e373-4ea6-f9fb-9ac0979509d3"
      },
      "outputs": [
        {
          "output_type": "stream",
          "name": "stdout",
          "text": [
            "A x B:\n",
            "[[7 2]\n",
            " [4 2]]\n"
          ]
        }
      ],
      "source": [
        "import numpy as np\n",
        "\n",
        "# Definisi matriks\n",
        "A = np.array([[3, 1], [2, 0]])\n",
        "B = np.array([[2, 1], [1, -1]])\n",
        "\n",
        "# Perkalian matriks A x B\n",
        "AxB = np.matmul(A, B)\n",
        "\n",
        "# Menampilkan hasil\n",
        "print(\"A x B:\")\n",
        "print(AxB)"
      ]
    },
    {
      "cell_type": "markdown",
      "source": [
        "b. B x C"
      ],
      "metadata": {
        "id": "Ah0kRrrd61s7"
      }
    },
    {
      "cell_type": "code",
      "source": [
        "import numpy as np\n",
        "\n",
        "# Definisi matriks\n",
        "B = np.array([[2, 1], [1, -1]])\n",
        "C = np.array([[-1, 1, 2], [2, 0, -1]])\n",
        "\n",
        "# Perkalian matriks B x C\n",
        "BxC = np.matmul(B, C)\n",
        "\n",
        "# Menampilkan hasil\n",
        "print(\"B x C:\")\n",
        "print(BxC)"
      ],
      "metadata": {
        "colab": {
          "base_uri": "https://localhost:8080/"
        },
        "id": "ZXSEpKdn63Vz",
        "outputId": "e80413e4-4db2-4b45-dcd4-92e792af295e"
      },
      "execution_count": 2,
      "outputs": [
        {
          "output_type": "stream",
          "name": "stdout",
          "text": [
            "B x C:\n",
            "[[ 0  2  3]\n",
            " [-3  1  3]]\n"
          ]
        }
      ]
    },
    {
      "cell_type": "markdown",
      "source": [
        "## Tugas Praktikum 2"
      ],
      "metadata": {
        "id": "YtwyW1u87xGC"
      }
    },
    {
      "cell_type": "markdown",
      "source": [
        "a. 6!"
      ],
      "metadata": {
        "id": "LTybFZAU7z3w"
      }
    },
    {
      "cell_type": "code",
      "source": [
        "import math\n",
        "\n",
        "faktorial_6 = math.factorial(6)\n",
        "print(\"6! =\", faktorial_6)"
      ],
      "metadata": {
        "colab": {
          "base_uri": "https://localhost:8080/"
        },
        "id": "YuatdDO67yYR",
        "outputId": "7a8e96e0-e963-403d-87fc-e94bc8783343"
      },
      "execution_count": 3,
      "outputs": [
        {
          "output_type": "stream",
          "name": "stdout",
          "text": [
            "6! = 720\n"
          ]
        }
      ]
    },
    {
      "cell_type": "markdown",
      "source": [
        "b. 8! / 5!"
      ],
      "metadata": {
        "id": "D9cVVjRD8SMK"
      }
    },
    {
      "cell_type": "code",
      "source": [
        "import math\n",
        "\n",
        "faktorial_8_5 = math.factorial(8) / math.factorial(5)\n",
        "\n",
        "print(\"8! / 5! =\", faktorial_8_5)"
      ],
      "metadata": {
        "colab": {
          "base_uri": "https://localhost:8080/"
        },
        "id": "IF1a5B_H8XyP",
        "outputId": "af8bf3e8-c1f6-468d-d0e9-02f5f6dd0dc5"
      },
      "execution_count": 4,
      "outputs": [
        {
          "output_type": "stream",
          "name": "stdout",
          "text": [
            "8! / 5! = 336.0\n"
          ]
        }
      ]
    },
    {
      "cell_type": "markdown",
      "source": [
        "##Tugas Praktikum 3"
      ],
      "metadata": {
        "id": "342ttL9k83rY"
      }
    },
    {
      "cell_type": "code",
      "source": [
        "import numpy as np\n",
        "\n",
        "# Definisi vektor\n",
        "A = np.array([5, 3, 7])\n",
        "B = np.array([12, -3, 1])\n",
        "\n",
        "# Panjang masing-masing vektor (magnitude)\n",
        "magnitude_A = np.linalg.norm(A)\n",
        "magnitude_B = np.linalg.norm(B)\n",
        "\n",
        "# Perkalian titik (dot product)\n",
        "dot_product = np.dot(A, B)\n",
        "\n",
        "# Perkalian silang (cross product)\n",
        "cross_product = np.cross(A, B)\n",
        "\n",
        "print(\"Panjang vektor A:\", magnitude_A)\n",
        "print(\"Panjang vektor B:\", magnitude_B)\n",
        "print(\"Perkalian titik A . B:\", dot_product)\n",
        "print(\"Perkalian silang A x B:\")\n",
        "print(cross_product)\n"
      ],
      "metadata": {
        "colab": {
          "base_uri": "https://localhost:8080/"
        },
        "id": "1oo3OYR_86ds",
        "outputId": "6de33af1-1ea0-43ca-d155-56e50acd6342"
      },
      "execution_count": 6,
      "outputs": [
        {
          "output_type": "stream",
          "name": "stdout",
          "text": [
            "Panjang vektor A: 9.1104335791443\n",
            "Panjang vektor B: 12.409673645990857\n",
            "Perkalian titik A . B: 58\n",
            "Perkalian silang A x B:\n",
            "[ 24  79 -51]\n"
          ]
        }
      ]
    }
  ]
}