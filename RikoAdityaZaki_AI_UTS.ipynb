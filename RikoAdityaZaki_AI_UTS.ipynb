{
  "nbformat": 4,
  "nbformat_minor": 0,
  "metadata": {
    "colab": {
      "provenance": [],
      "authorship_tag": "ABX9TyMgSWx6+CJ1Fz7A1UNg5nvP",
      "include_colab_link": true
    },
    "kernelspec": {
      "name": "python3",
      "display_name": "Python 3"
    },
    "language_info": {
      "name": "python"
    }
  },
  "cells": [
    {
      "cell_type": "markdown",
      "metadata": {
        "id": "view-in-github",
        "colab_type": "text"
      },
      "source": [
        "<a href=\"https://colab.research.google.com/github/Radityaz/2025_AI_TI1B/blob/main/RikoAdityaZaki_AI_UTS.ipynb\" target=\"_parent\"><img src=\"https://colab.research.google.com/assets/colab-badge.svg\" alt=\"Open In Colab\"/></a>"
      ]
    },
    {
      "cell_type": "markdown",
      "source": [
        "# UJIAN TENGAH SEMESTER KECERDASAN BUATAN"
      ],
      "metadata": {
        "id": "cBXsJjGWBasY"
      }
    },
    {
      "cell_type": "markdown",
      "source": [
        "## IMPORT LIBRARY"
      ],
      "metadata": {
        "id": "fIv1UPpmDvO3"
      }
    },
    {
      "cell_type": "code",
      "source": [
        "import pandas as pd\n",
        "import matplotlib.pyplot as plt\n"
      ],
      "metadata": {
        "id": "330H0RGNDxRh"
      },
      "execution_count": 12,
      "outputs": []
    },
    {
      "cell_type": "markdown",
      "source": [
        "## PANDAS"
      ],
      "metadata": {
        "id": "GIIEkisOFvmE"
      }
    },
    {
      "cell_type": "markdown",
      "source": [
        "Read data airbnb.csv"
      ],
      "metadata": {
        "id": "DkppQoMvF2EA"
      }
    },
    {
      "cell_type": "code",
      "source": [
        "df = pd.read_csv('airbnb.csv')\n",
        "print(df.info())"
      ],
      "metadata": {
        "colab": {
          "base_uri": "https://localhost:8080/"
        },
        "id": "9wjWAWzWFwlS",
        "outputId": "0a9066e2-01ca-46fd-da9d-b201f96f07d9"
      },
      "execution_count": 15,
      "outputs": [
        {
          "output_type": "stream",
          "name": "stdout",
          "text": [
            "<class 'pandas.core.frame.DataFrame'>\n",
            "RangeIndex: 48895 entries, 0 to 48894\n",
            "Data columns (total 16 columns):\n",
            " #   Column                          Non-Null Count  Dtype  \n",
            "---  ------                          --------------  -----  \n",
            " 0   id                              48895 non-null  int64  \n",
            " 1   name                            48879 non-null  object \n",
            " 2   host_id                         48895 non-null  int64  \n",
            " 3   host_name                       48874 non-null  object \n",
            " 4   neighbourhood_group             48895 non-null  object \n",
            " 5   neighbourhood                   48895 non-null  object \n",
            " 6   latitude                        48895 non-null  float64\n",
            " 7   longitude                       48895 non-null  float64\n",
            " 8   room_type                       48895 non-null  object \n",
            " 9   price                           48895 non-null  int64  \n",
            " 10  minimum_nights                  48895 non-null  int64  \n",
            " 11  number_of_reviews               48895 non-null  int64  \n",
            " 12  last_review                     38843 non-null  object \n",
            " 13  reviews_per_month               38843 non-null  float64\n",
            " 14  calculated_host_listings_count  48895 non-null  int64  \n",
            " 15  availability_365                48895 non-null  int64  \n",
            "dtypes: float64(3), int64(7), object(6)\n",
            "memory usage: 6.0+ MB\n",
            "None\n"
          ]
        }
      ]
    },
    {
      "cell_type": "markdown",
      "source": [
        "Working Series airbnb"
      ],
      "metadata": {
        "id": "aUrOd-cAGE2S"
      }
    },
    {
      "cell_type": "code",
      "source": [
        "# 2. Working with Series\n",
        "print(\"\\n=== Working with Series ===\")\n",
        "# Create a Series from the price column\n",
        "price_series = df['price']\n",
        "print(\"\\nPrice Series head():\")\n",
        "print(price_series.head())\n",
        "\n",
        "# Series operations\n",
        "print(\"\\nAverage price:\", price_series.mean())\n",
        "print(\"Most expensive listing:\", price_series.max())\n",
        "print(\"Cheapest listing:\", price_series.min())"
      ],
      "metadata": {
        "colab": {
          "base_uri": "https://localhost:8080/"
        },
        "id": "TNrHUYU6GKMc",
        "outputId": "b7163550-43d5-4386-c6c2-5346b25acc41"
      },
      "execution_count": 16,
      "outputs": [
        {
          "output_type": "stream",
          "name": "stdout",
          "text": [
            "\n",
            "=== Working with Series ===\n",
            "\n",
            "Price Series head():\n",
            "0    149\n",
            "1    225\n",
            "2    150\n",
            "3     89\n",
            "4     80\n",
            "Name: price, dtype: int64\n",
            "\n",
            "Average price: 152.7206871868289\n",
            "Most expensive listing: 10000\n",
            "Cheapest listing: 0\n"
          ]
        }
      ]
    },
    {
      "cell_type": "markdown",
      "source": [
        "DataFraming airbnb.csv"
      ],
      "metadata": {
        "id": "r8LncRjLGODv"
      }
    },
    {
      "cell_type": "code",
      "source": [
        "# 3. DataFrame operations\n",
        "print(\"\\n=== DataFrame Operations ===\")\n",
        "# Display first 5 rows\n",
        "print(\"\\nFirst 5 rows:\")\n",
        "print(df.head())\n",
        "\n",
        "# Basic statistics\n",
        "print(\"\\nDescriptive statistics:\")\n",
        "print(df.describe())\n",
        "\n",
        "# Filtering data - listings in Manhattan\n",
        "manhattan_listings = df[df['neighbourhood_group'] == 'Manhattan']\n",
        "print(\"\\nManhattan listings count:\", len(manhattan_listings))\n",
        "\n",
        "# Group by neighborhood and calculate average price\n",
        "print(\"\\nAverage price by neighborhood group:\")\n",
        "print(df.groupby('neighbourhood_group')['price'].mean().sort_values(ascending=False))"
      ],
      "metadata": {
        "colab": {
          "base_uri": "https://localhost:8080/"
        },
        "id": "PKHVHXf5GTdZ",
        "outputId": "5f43147e-9e13-4706-c098-cbdb93b45a16"
      },
      "execution_count": 17,
      "outputs": [
        {
          "output_type": "stream",
          "name": "stdout",
          "text": [
            "\n",
            "=== DataFrame Operations ===\n",
            "\n",
            "First 5 rows:\n",
            "     id                                              name  host_id  \\\n",
            "0  2539                Clean & quiet apt home by the park     2787   \n",
            "1  2595                             Skylit Midtown Castle     2845   \n",
            "2  3647               THE VILLAGE OF HARLEM....NEW YORK !     4632   \n",
            "3  3831                   Cozy Entire Floor of Brownstone     4869   \n",
            "4  5022  Entire Apt: Spacious Studio/Loft by central park     7192   \n",
            "\n",
            "     host_name neighbourhood_group neighbourhood  latitude  longitude  \\\n",
            "0         John            Brooklyn    Kensington  40.64749  -73.97237   \n",
            "1     Jennifer           Manhattan       Midtown  40.75362  -73.98377   \n",
            "2    Elisabeth           Manhattan        Harlem  40.80902  -73.94190   \n",
            "3  LisaRoxanne            Brooklyn  Clinton Hill  40.68514  -73.95976   \n",
            "4        Laura           Manhattan   East Harlem  40.79851  -73.94399   \n",
            "\n",
            "         room_type  price  minimum_nights  number_of_reviews last_review  \\\n",
            "0     Private room    149               1                  9  2018-10-19   \n",
            "1  Entire home/apt    225               1                 45  2019-05-21   \n",
            "2     Private room    150               3                  0         NaN   \n",
            "3  Entire home/apt     89               1                270  2019-07-05   \n",
            "4  Entire home/apt     80              10                  9  2018-11-19   \n",
            "\n",
            "   reviews_per_month  calculated_host_listings_count  availability_365  \n",
            "0               0.21                               6               365  \n",
            "1               0.38                               2               355  \n",
            "2                NaN                               1               365  \n",
            "3               4.64                               1               194  \n",
            "4               0.10                               1                 0  \n",
            "\n",
            "Descriptive statistics:\n",
            "                 id       host_id      latitude     longitude         price  \\\n",
            "count  4.889500e+04  4.889500e+04  48895.000000  48895.000000  48895.000000   \n",
            "mean   1.901714e+07  6.762001e+07     40.728949    -73.952170    152.720687   \n",
            "std    1.098311e+07  7.861097e+07      0.054530      0.046157    240.154170   \n",
            "min    2.539000e+03  2.438000e+03     40.499790    -74.244420      0.000000   \n",
            "25%    9.471945e+06  7.822033e+06     40.690100    -73.983070     69.000000   \n",
            "50%    1.967728e+07  3.079382e+07     40.723070    -73.955680    106.000000   \n",
            "75%    2.915218e+07  1.074344e+08     40.763115    -73.936275    175.000000   \n",
            "max    3.648724e+07  2.743213e+08     40.913060    -73.712990  10000.000000   \n",
            "\n",
            "       minimum_nights  number_of_reviews  reviews_per_month  \\\n",
            "count    48895.000000       48895.000000       38843.000000   \n",
            "mean         7.029962          23.274466           1.373221   \n",
            "std         20.510550          44.550582           1.680442   \n",
            "min          1.000000           0.000000           0.010000   \n",
            "25%          1.000000           1.000000           0.190000   \n",
            "50%          3.000000           5.000000           0.720000   \n",
            "75%          5.000000          24.000000           2.020000   \n",
            "max       1250.000000         629.000000          58.500000   \n",
            "\n",
            "       calculated_host_listings_count  availability_365  \n",
            "count                    48895.000000      48895.000000  \n",
            "mean                         7.143982        112.781327  \n",
            "std                         32.952519        131.622289  \n",
            "min                          1.000000          0.000000  \n",
            "25%                          1.000000          0.000000  \n",
            "50%                          1.000000         45.000000  \n",
            "75%                          2.000000        227.000000  \n",
            "max                        327.000000        365.000000  \n",
            "\n",
            "Manhattan listings count: 21661\n",
            "\n",
            "Average price by neighborhood group:\n",
            "neighbourhood_group\n",
            "Manhattan        196.875814\n",
            "Brooklyn         124.383207\n",
            "Staten Island    114.812332\n",
            "Queens            99.517649\n",
            "Bronx             87.496792\n",
            "Name: price, dtype: float64\n"
          ]
        }
      ]
    },
    {
      "cell_type": "markdown",
      "source": [
        "Data Manipulating airbnb.csv"
      ],
      "metadata": {
        "id": "cSYUru4MGXvJ"
      }
    },
    {
      "cell_type": "code",
      "source": [
        "# 4. Data Manipulation\n",
        "print(\"\\n=== Data Manipulation ===\")\n",
        "# Add a new column for price per night (just an example, same as price here)\n",
        "df['price_per_night'] = df['price'] / df['minimum_nights']\n",
        "print(\"\\nDataFrame with new column:\")\n",
        "print(df[['name', 'price', 'minimum_nights', 'price_per_night']].head())\n",
        "\n",
        "# Pivot table - average price by room type and neighborhood group\n",
        "pivot_table = pd.pivot_table(df,\n",
        "                            values='price',\n",
        "                            index='neighbourhood_group',\n",
        "                            columns='room_type',\n",
        "                            aggfunc='mean')\n",
        "print(\"\\nPivot Table:\")\n",
        "print(pivot_table)"
      ],
      "metadata": {
        "colab": {
          "base_uri": "https://localhost:8080/"
        },
        "id": "cfuC0l7YGXeK",
        "outputId": "9e69a946-ca47-40bc-cbbc-90362eeb8e84"
      },
      "execution_count": 18,
      "outputs": [
        {
          "output_type": "stream",
          "name": "stdout",
          "text": [
            "\n",
            "=== Data Manipulation ===\n",
            "\n",
            "DataFrame with new column:\n",
            "                                               name  price  minimum_nights  \\\n",
            "0                Clean & quiet apt home by the park    149               1   \n",
            "1                             Skylit Midtown Castle    225               1   \n",
            "2               THE VILLAGE OF HARLEM....NEW YORK !    150               3   \n",
            "3                   Cozy Entire Floor of Brownstone     89               1   \n",
            "4  Entire Apt: Spacious Studio/Loft by central park     80              10   \n",
            "\n",
            "   price_per_night  \n",
            "0            149.0  \n",
            "1            225.0  \n",
            "2             50.0  \n",
            "3             89.0  \n",
            "4              8.0  \n",
            "\n",
            "Pivot Table:\n",
            "room_type            Entire home/apt  Private room  Shared room\n",
            "neighbourhood_group                                            \n",
            "Bronx                     127.506596     66.788344    59.800000\n",
            "Brooklyn                  178.327545     76.500099    50.527845\n",
            "Manhattan                 249.239109    116.776622    88.977083\n",
            "Queens                    147.050573     71.762456    69.020202\n",
            "Staten Island             173.846591     62.292553    57.444444\n"
          ]
        }
      ]
    }
  ]
}